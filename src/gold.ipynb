{
 "cells": [
  {
   "cell_type": "code",
   "execution_count": 1,
   "id": "7334205a-1946-4691-aa3b-5a41c2582a97",
   "metadata": {},
   "outputs": [],
   "source": [
    "from pyspark.sql import SparkSession, Window\n",
    "from pyspark.sql.functions import col, when, lag, lead, count, countDistinct, avg, sum, min , max"
   ]
  },
  {
   "cell_type": "code",
   "execution_count": 2,
   "id": "6a452f5f-3d3f-4fc3-8df8-2894a3fe7446",
   "metadata": {},
   "outputs": [],
   "source": [
    "from pyspark.sql import functions as F"
   ]
  },
  {
   "cell_type": "code",
   "execution_count": 3,
   "id": "a595c653-930b-4a5f-9a66-58b48e7afe0d",
   "metadata": {},
   "outputs": [
    {
     "name": "stderr",
     "output_type": "stream",
     "text": [
      "25/07/06 15:47:07 WARN SparkSession: Using an existing Spark session; only runtime SQL configurations will take effect.\n"
     ]
    },
    {
     "data": {
      "text/html": [
       "\n",
       "            <div>\n",
       "                <p><b>SparkSession - hive</b></p>\n",
       "                \n",
       "        <div>\n",
       "            <p><b>SparkContext</b></p>\n",
       "\n",
       "            <p><a href=\"http://cluster-5492-m.us-central1-f.c.glass-chimera-465105-t5.internal:38265\">Spark UI</a></p>\n",
       "\n",
       "            <dl>\n",
       "              <dt>Version</dt>\n",
       "                <dd><code>v3.3.2</code></dd>\n",
       "              <dt>Master</dt>\n",
       "                <dd><code>yarn</code></dd>\n",
       "              <dt>AppName</dt>\n",
       "                <dd><code>PySparkShell</code></dd>\n",
       "            </dl>\n",
       "        </div>\n",
       "        \n",
       "            </div>\n",
       "        "
      ],
      "text/plain": [
       "<pyspark.sql.session.SparkSession at 0x7f1bf60a9c00>"
      ]
     },
     "execution_count": 3,
     "metadata": {},
     "output_type": "execute_result"
    }
   ],
   "source": [
    "spark = SparkSession.builder.appName(\"GCPDataPipeleine\").getOrCreate()\n",
    "spark"
   ]
  },
  {
   "cell_type": "markdown",
   "id": "4a29384b-5fba-4dc3-a60d-c1e2d62c407d",
   "metadata": {},
   "source": [
    "## 1. 📊 Customer Credit Risk Score by Bureau History"
   ]
  },
  {
   "cell_type": "code",
   "execution_count": 6,
   "id": "d7e770aa-1527-473b-ab8f-ce80185140ae",
   "metadata": {},
   "outputs": [
    {
     "name": "stderr",
     "output_type": "stream",
     "text": [
      "                                                                                \r"
     ]
    },
    {
     "name": "stdout",
     "output_type": "stream",
     "text": [
      "+----------+-----------------+-----------+-----------------+\n",
      "|SK_ID_CURR|     total_credit| total_debt|bureau_debt_ratio|\n",
      "+----------+-----------------+-----------+-----------------+\n",
      "|    205348|          45000.0|   350509.5|           7.7891|\n",
      "|    449785|67634.45999999999| 473011.425|6.993645325178911|\n",
      "|    209349|          45000.0|   264780.0|            5.884|\n",
      "|    292622|        2055982.5|1.2012291E7|5.842603718660056|\n",
      "|    257060|        588004.56|  3177229.5|5.403409626619221|\n",
      "+----------+-----------------+-----------+-----------------+\n",
      "only showing top 5 rows\n",
      "\n"
     ]
    }
   ],
   "source": [
    "bureau_df = spark.read.parquet(\"gs://cred_silver/bureau\")\n",
    "bureau_agg = bureau_df.groupBy(\"SK_ID_CURR\").agg(\n",
    "    F.sum(\"AMT_CREDIT_SUM\").alias(\"total_credit\"),\n",
    "    F.sum(\"AMT_CREDIT_SUM_DEBT\").alias(\"total_debt\")\n",
    ").withColumn(\"bureau_debt_ratio\", col(\"total_debt\") / col(\"total_credit\")).sort('bureau_debt_ratio', ascending =False)\n",
    "bureau_agg.show(5)"
   ]
  },
  {
   "cell_type": "code",
   "execution_count": 8,
   "id": "2b8648af-b645-43ff-9962-36e7a7200f6e",
   "metadata": {},
   "outputs": [
    {
     "name": "stderr",
     "output_type": "stream",
     "text": [
      "                                                                                \r"
     ]
    }
   ],
   "source": [
    "bureau_agg.write.mode(\"overwrite\").parquet(\"gs://cred_gold/bureau_agg\")"
   ]
  },
  {
   "cell_type": "markdown",
   "id": "831e1e80-98ca-4535-ac36-bbccc9299ba7",
   "metadata": {},
   "source": [
    "## 2. 🧾 Installment Payment Behavior Index"
   ]
  },
  {
   "cell_type": "code",
   "execution_count": 9,
   "id": "f6a720b4-4039-400c-b071-ada11aae9484",
   "metadata": {},
   "outputs": [
    {
     "name": "stderr",
     "output_type": "stream",
     "text": [
      "[Stage 14:======================================>                   (2 + 1) / 3]\r"
     ]
    },
    {
     "name": "stdout",
     "output_type": "stream",
     "text": [
      "+----------+------------------+\n",
      "|SK_ID_CURR|     avg_days_late|\n",
      "+----------+------------------+\n",
      "|    184984|1884.2045454545455|\n",
      "|    230218|            1406.0|\n",
      "|    225340|            1378.5|\n",
      "|    210216|             950.0|\n",
      "|    164168| 945.3333333333334|\n",
      "+----------+------------------+\n",
      "only showing top 5 rows\n",
      "\n"
     ]
    },
    {
     "name": "stderr",
     "output_type": "stream",
     "text": [
      "                                                                                \r"
     ]
    }
   ],
   "source": [
    "inst_df = spark.read.parquet(\"gs://cred_silver/installments_payments\")\n",
    "inst_pay = inst_df.withColumn(\"days_late\", col(\"DAYS_ENTRY_PAYMENT\") - col(\"DAYS_INSTALMENT\"))\n",
    "inst_late_avg = inst_pay.groupBy(\"SK_ID_CURR\").agg(F.avg(\"days_late\").alias(\"avg_days_late\")).sort('avg_days_late',ascending = False)\n",
    "inst_late_avg.show(5)\n"
   ]
  },
  {
   "cell_type": "code",
   "execution_count": 10,
   "id": "dfbf8310-1a38-41fc-904d-a262a568dd40",
   "metadata": {},
   "outputs": [
    {
     "name": "stderr",
     "output_type": "stream",
     "text": [
      "                                                                                \r"
     ]
    }
   ],
   "source": [
    "inst_late_avg.write.mode(\"overwrite\").parquet(\"gs://cred_gold/inst_late_avg\")"
   ]
  },
  {
   "cell_type": "markdown",
   "id": "fb5f2dbd-dfe6-4ddc-b211-6d0f354b7d6a",
   "metadata": {},
   "source": [
    "## 3. 💼 Previous Application Behavior Profile"
   ]
  },
  {
   "cell_type": "code",
   "execution_count": 11,
   "id": "c989cd42-0eec-453e-a2ea-6dd73c1c6374",
   "metadata": {},
   "outputs": [
    {
     "name": "stderr",
     "output_type": "stream",
     "text": [
      "[Stage 26:================================================>         (5 + 1) / 6]\r"
     ]
    },
    {
     "name": "stdout",
     "output_type": "stream",
     "text": [
      "+----------+---------------------------+\n",
      "|SK_ID_CURR|avg_diff_requested_approved|\n",
      "+----------+---------------------------+\n",
      "|    394154|                  1980000.0|\n",
      "|    197751|                 1077428.25|\n",
      "|    280732|         1008895.3987499999|\n",
      "|    256573|                   905580.0|\n",
      "|    439129|                   887661.0|\n",
      "+----------+---------------------------+\n",
      "only showing top 5 rows\n",
      "\n"
     ]
    },
    {
     "name": "stderr",
     "output_type": "stream",
     "text": [
      "                                                                                \r"
     ]
    }
   ],
   "source": [
    "prev_df = spark.read.parquet(\"gs://cred_silver/previous_application\")\n",
    "prev_app = prev_df.withColumn(\"app_to_credit_diff\", col(\"AMT_APPLICATION\") - col(\"AMT_CREDIT\"))\n",
    "prev_stats = prev_app.groupBy(\"SK_ID_CURR\").agg(F.avg(\"app_to_credit_diff\").alias(\"avg_diff_requested_approved\")).sort('avg_diff_requested_approved',ascending = False)\n",
    "prev_stats.show(5)"
   ]
  },
  {
   "cell_type": "code",
   "execution_count": 12,
   "id": "b4472b48-622e-449d-8d0f-3e178a18c536",
   "metadata": {},
   "outputs": [
    {
     "name": "stderr",
     "output_type": "stream",
     "text": [
      "                                                                                \r"
     ]
    }
   ],
   "source": [
    "prev_stats.write.mode(\"overwrite\").parquet(\"gs://cred_gold/prev_app_stats\")"
   ]
  },
  {
   "cell_type": "markdown",
   "id": "344cbaa5-b863-42f0-b4ae-49366f0fa2b3",
   "metadata": {},
   "source": [
    "## 4. 🧮 Overdue Severity Score from Bureau Balance"
   ]
  },
  {
   "cell_type": "code",
   "execution_count": null,
   "id": "7e92f3b8-dcc9-422c-adb8-f7486eadd5f2",
   "metadata": {},
   "outputs": [
    {
     "name": "stderr",
     "output_type": "stream",
     "text": [
      "[Stage 39:======================================>                   (4 + 2) / 6]\r"
     ]
    },
    {
     "name": "stdout",
     "output_type": "stream",
     "text": [
      "+----------+-----+\n",
      "|SK_ID_CURR|count|\n",
      "+----------+-----+\n",
      "|    216627|   35|\n",
      "|    293947|    3|\n",
      "|    156156|    2|\n",
      "|    373721|   14|\n",
      "|    274529|   16|\n",
      "+----------+-----+\n",
      "only showing top 5 rows\n",
      "\n"
     ]
    },
    {
     "name": "stderr",
     "output_type": "stream",
     "text": [
      "                                                                                \r"
     ]
    }
   ],
   "source": [
    "bureau_bal = spark.read.parquet(\"gs://cred_silver/bureau_balance\")\n",
    "severe_bureau = bureau_bal.filter(col(\"STATUS\") == \"5\")\n",
    "severe_counts = severe_bureau.join(bureau_df, \"SK_ID_BUREAU\").groupBy(\"SK_ID_CURR\").count().alias(\"severe_dpd_count\")\n",
    "severe_counts.show(5)"
   ]
  },
  {
   "cell_type": "code",
   "execution_count": 14,
   "id": "738dcbb2-2fa9-4ad5-b4d5-4cd1089f7b5c",
   "metadata": {},
   "outputs": [
    {
     "name": "stderr",
     "output_type": "stream",
     "text": [
      "                                                                                \r"
     ]
    }
   ],
   "source": [
    "severe_counts.write.mode(\"overwrite\").parquet(\"gs://cred_gold/severe_bureau_counts\")"
   ]
  },
  {
   "cell_type": "markdown",
   "id": "e21b20d9-1423-46d0-899a-3275694ef655",
   "metadata": {},
   "source": [
    "## 5. 🏪 POS Loan Repayment Health"
   ]
  },
  {
   "cell_type": "code",
   "execution_count": 16,
   "id": "b38d37d1-c7ca-42b4-94b9-c9180d1dbc7a",
   "metadata": {},
   "outputs": [
    {
     "name": "stderr",
     "output_type": "stream",
     "text": [
      "[Stage 48:================================================>         (5 + 1) / 6]\r"
     ]
    },
    {
     "name": "stdout",
     "output_type": "stream",
     "text": [
      "+----------+-----------------------+\n",
      "|SK_ID_CURR|future_pos_installments|\n",
      "+----------+-----------------------+\n",
      "|    428330|                  626.0|\n",
      "|    146581|                 1054.0|\n",
      "|    411841|                  545.0|\n",
      "|    250235|                  485.0|\n",
      "|    126373|                  665.0|\n",
      "+----------+-----------------------+\n",
      "only showing top 5 rows\n",
      "\n"
     ]
    },
    {
     "name": "stderr",
     "output_type": "stream",
     "text": [
      "                                                                                \r"
     ]
    }
   ],
   "source": [
    "pos_df = spark.read.parquet(\"gs://cred_silver/POS_CASH_balance\")\n",
    "pos_health = pos_df.groupBy(\"SK_ID_CURR\").agg(F.sum(\"CNT_INSTALMENT_FUTURE\").alias(\"future_pos_installments\"))\n",
    "pos_health.show(5)"
   ]
  },
  {
   "cell_type": "code",
   "execution_count": 17,
   "id": "1b1763d9-26fe-4eca-9575-6794273eb9e7",
   "metadata": {},
   "outputs": [
    {
     "name": "stderr",
     "output_type": "stream",
     "text": [
      "                                                                                \r"
     ]
    }
   ],
   "source": [
    "pos_health.write.mode(\"overwrite\").parquet(\"gs://cred_gold/pos_health\")"
   ]
  },
  {
   "cell_type": "markdown",
   "id": "c500f782-37c4-4e54-ba63-f51ee8b1193b",
   "metadata": {},
   "source": [
    "## 6. 💳 Credit Card Utilization Behavior"
   ]
  },
  {
   "cell_type": "code",
   "execution_count": 18,
   "id": "ebc5050c-161b-4a68-b2dc-e29afdfcb1e3",
   "metadata": {},
   "outputs": [
    {
     "name": "stderr",
     "output_type": "stream",
     "text": [
      "[Stage 55:================================================>         (5 + 1) / 6]\r"
     ]
    },
    {
     "name": "stdout",
     "output_type": "stream",
     "text": [
      "+----------+------------------+\n",
      "|SK_ID_CURR|avg_cc_utilization|\n",
      "+----------+------------------+\n",
      "|    245823|           3.10505|\n",
      "|    416768|               3.0|\n",
      "|    436756| 2.738913971428571|\n",
      "|    373596| 2.565406857142857|\n",
      "|    110288|1.9155284933333332|\n",
      "+----------+------------------+\n",
      "only showing top 5 rows\n",
      "\n"
     ]
    },
    {
     "name": "stderr",
     "output_type": "stream",
     "text": [
      "                                                                                \r"
     ]
    }
   ],
   "source": [
    "cc_df = spark.read.parquet(\"gs://cred_silver/credit_card_balance\")\n",
    "cc_util = cc_df.withColumn(\"utilization\", col(\"AMT_DRAWINGS_CURRENT\") / col(\"AMT_CREDIT_LIMIT_ACTUAL\"))\n",
    "cc_util_avg = cc_util.groupBy(\"SK_ID_CURR\").agg(F.avg(\"utilization\").alias(\"avg_cc_utilization\")).sort('avg_cc_utilization',ascending = False)\n",
    "cc_util_avg.show(5)"
   ]
  },
  {
   "cell_type": "code",
   "execution_count": 19,
   "id": "a337156a-9b2f-49a2-9290-31b0c1982af8",
   "metadata": {},
   "outputs": [
    {
     "name": "stderr",
     "output_type": "stream",
     "text": [
      "                                                                                \r"
     ]
    }
   ],
   "source": [
    "cc_util_avg.write.mode(\"overwrite\").parquet(\"gs://cred_gold/cc_utilization_avg\")"
   ]
  },
  {
   "cell_type": "markdown",
   "id": "5c64d4d7-ce07-4701-90f5-478c05b32f7e",
   "metadata": {},
   "source": [
    "## 7. 📆 Loan Purpose Default Trend"
   ]
  },
  {
   "cell_type": "code",
   "execution_count": 20,
   "id": "440708a7-8e14-4968-a23d-a3ddc8e4cdb4",
   "metadata": {},
   "outputs": [
    {
     "name": "stderr",
     "output_type": "stream",
     "text": [
      "[Stage 69:===================>                                      (2 + 4) / 6]\r"
     ]
    },
    {
     "name": "stdout",
     "output_type": "stream",
     "text": [
      "+----------------------+-------------------+\n",
      "|NAME_CASH_LOAN_PURPOSE| avg(avg_days_late)|\n",
      "+----------------------+-------------------+\n",
      "|                   XAP|-11.050306987596407|\n",
      "|          Urgent needs| -9.158056750937279|\n",
      "|             Education| -8.080853350226063|\n",
      "|  Refusal to name t...|  -7.34484847065544|\n",
      "|  Business development| -7.381461960176898|\n",
      "+----------------------+-------------------+\n",
      "only showing top 5 rows\n",
      "\n"
     ]
    },
    {
     "name": "stderr",
     "output_type": "stream",
     "text": [
      "                                                                                \r"
     ]
    }
   ],
   "source": [
    "purpose_risk = prev_df.join(inst_late_avg, \"SK_ID_CURR\").groupBy(\"NAME_CASH_LOAN_PURPOSE\").agg(F.avg(\"avg_days_late\"))\n",
    "purpose_risk.show(5)"
   ]
  },
  {
   "cell_type": "code",
   "execution_count": 21,
   "id": "aa401d7f-745e-4016-80f6-e7c62651e617",
   "metadata": {},
   "outputs": [
    {
     "name": "stderr",
     "output_type": "stream",
     "text": [
      "                                                                                \r"
     ]
    }
   ],
   "source": [
    "purpose_risk.write.mode(\"overwrite\").parquet(\"gs://cred_gold/purpose_risk\")"
   ]
  },
  {
   "cell_type": "markdown",
   "id": "acb11ecb-9397-434f-ad32-d6e412822409",
   "metadata": {},
   "source": [
    "## 8. 🔗 Temporal Application Patterns"
   ]
  },
  {
   "cell_type": "code",
   "execution_count": 22,
   "id": "b4290798-90a0-4b18-97a4-46abf429491e",
   "metadata": {},
   "outputs": [
    {
     "name": "stderr",
     "output_type": "stream",
     "text": [
      "[Stage 83:>                                                         (0 + 6) / 6]\r"
     ]
    },
    {
     "name": "stdout",
     "output_type": "stream",
     "text": [
      "+--------------------------+-------------------+\n",
      "|WEEKDAY_APPR_PROCESS_START| avg(avg_days_late)|\n",
      "+--------------------------+-------------------+\n",
      "|                  SATURDAY|-10.662722240579367|\n",
      "|                  THURSDAY| -10.40142056783275|\n",
      "|                    FRIDAY|-10.428568351583213|\n",
      "|                   TUESDAY| -10.31336519152617|\n",
      "|                 WEDNESDAY|  -10.3418187157568|\n",
      "+--------------------------+-------------------+\n",
      "only showing top 5 rows\n",
      "\n"
     ]
    },
    {
     "name": "stderr",
     "output_type": "stream",
     "text": [
      "                                                                                \r"
     ]
    }
   ],
   "source": [
    "temporal_pattern = prev_df.join(inst_late_avg, \"SK_ID_CURR\").groupBy(\"WEEKDAY_APPR_PROCESS_START\").agg(F.avg(\"avg_days_late\"))\n",
    "temporal_pattern.show(5)"
   ]
  },
  {
   "cell_type": "code",
   "execution_count": 23,
   "id": "2dd419ce-2462-4ee9-b13e-a60e8b2bf0d9",
   "metadata": {},
   "outputs": [
    {
     "name": "stderr",
     "output_type": "stream",
     "text": [
      "                                                                                \r"
     ]
    }
   ],
   "source": [
    "temporal_pattern.write.mode(\"overwrite\").parquet(\"gs://cred_gold/temporal_pattern\")"
   ]
  },
  {
   "cell_type": "markdown",
   "id": "2893f460-2254-4202-bc3c-10ceee82d36d",
   "metadata": {},
   "source": [
    "## 9. 🔍 Client Contract Portfolio Summary"
   ]
  },
  {
   "cell_type": "code",
   "execution_count": 24,
   "id": "7a4f860a-155e-4569-9bbe-95f7e4025754",
   "metadata": {},
   "outputs": [
    {
     "name": "stderr",
     "output_type": "stream",
     "text": [
      "[Stage 96:====================================>                     (5 + 3) / 8]\r"
     ]
    },
    {
     "name": "stdout",
     "output_type": "stream",
     "text": [
      "+----------+-------------------+-----------------------+\n",
      "|SK_ID_CURR|prev_contract_count|contract_type_diversity|\n",
      "+----------+-------------------+-----------------------+\n",
      "|    251742|                  9|                      3|\n",
      "|    406654|                  3|                      1|\n",
      "|    176948|                  3|                      2|\n",
      "|    398675|                  1|                      1|\n",
      "|    170542|                  8|                      2|\n",
      "+----------+-------------------+-----------------------+\n",
      "only showing top 5 rows\n",
      "\n"
     ]
    },
    {
     "name": "stderr",
     "output_type": "stream",
     "text": [
      "                                                                                \r"
     ]
    }
   ],
   "source": [
    "contract_mix = prev_df.groupBy(\"SK_ID_CURR\").agg(\n",
    "    F.count(\"SK_ID_PREV\").alias(\"prev_contract_count\"),\n",
    "    F.countDistinct(\"NAME_CONTRACT_TYPE\").alias(\"contract_type_diversity\")\n",
    ")\n",
    "contract_mix.show(5)"
   ]
  },
  {
   "cell_type": "code",
   "execution_count": 25,
   "id": "60aae00b-009f-4576-9f5d-5a82e77d8d83",
   "metadata": {},
   "outputs": [
    {
     "name": "stderr",
     "output_type": "stream",
     "text": [
      "                                                                                \r"
     ]
    }
   ],
   "source": [
    "contract_mix.write.mode(\"overwrite\").parquet(\"gs://cred_gold/contract_mix\")"
   ]
  },
  {
   "cell_type": "code",
   "execution_count": 26,
   "id": "19b30672-e3a4-4b84-983a-7a1c48ee5e01",
   "metadata": {},
   "outputs": [],
   "source": [
    "spark.stop()"
   ]
  },
  {
   "cell_type": "code",
   "execution_count": null,
   "id": "3118b444-a18d-4460-9747-c9e0a0ffab34",
   "metadata": {},
   "outputs": [],
   "source": []
  }
 ],
 "metadata": {
  "kernelspec": {
   "display_name": "PySpark",
   "language": "python",
   "name": "pyspark"
  },
  "language_info": {
   "codemirror_mode": {
    "name": "ipython",
    "version": 3
   },
   "file_extension": ".py",
   "mimetype": "text/x-python",
   "name": "python",
   "nbconvert_exporter": "python",
   "pygments_lexer": "ipython3",
   "version": "3.10.8"
  }
 },
 "nbformat": 4,
 "nbformat_minor": 5
}
